{
 "cells": [
  {
   "cell_type": "code",
   "execution_count": 2,
   "metadata": {},
   "outputs": [
    {
     "name": "stdout",
     "output_type": "stream",
     "text": [
      "The autoreload extension is already loaded. To reload it, use:\n",
      "  %reload_ext autoreload\n"
     ]
    }
   ],
   "source": [
    "%load_ext autoreload\n",
    "%autoreload 2\n",
    "\n",
    "import bmes\n",
    "\n",
    "#print(bmes.downloadurl('http://sacan.biomed.drexel.edu/lib/exe/fetch.php?rev=&media=course:bcomp2:db:homework_mirdb_dog75.txt','homework_mirdb_dog75.txt'))\n"
   ]
  },
  {
   "cell_type": "code",
   "execution_count": null,
   "metadata": {},
   "outputs": [],
   "source": [
    "bmes.system_redirecttofile('dir')"
   ]
  },
  {
   "cell_type": "code",
   "execution_count": 3,
   "metadata": {},
   "outputs": [],
   "source": [
    "def test():\n",
    "    import bmes_ahmet_loader\n",
    "test();"
   ]
  },
  {
   "cell_type": "code",
   "execution_count": null,
   "metadata": {},
   "outputs": [],
   "source": [
    "import os,sys;\n",
    "os.system(sys.executable + ' -m pip install -U wxPython')\n",
    "%gui wx\n",
    "import wx\n",
    "app=wx.App()\n",
    "msgbox=wx.MessageDialog(None, 'It works!');\n",
    "msgbox.ShowModal()\n",
    "msgbox.Destroy()\n",
    "app.MainLoop()\n",
    "del app"
   ]
  },
  {
   "cell_type": "code",
   "execution_count": 13,
   "metadata": {},
   "outputs": [
    {
     "name": "stdout",
     "output_type": "stream",
     "text": [
      "Anaconda3\n",
      "None\n"
     ]
    }
   ],
   "source": [
    "import sys,os,re;\n",
    "dirname=os.path.dirname(sys.executable);\n",
    "dirbasename=os.path.basename(dirname);\n",
    "print(dirbasename)\n",
    "print(re.match(dirbasename,'anaconda.*',re.IGNORECASE))\n",
    "if re.match(dirbasename,'anaconda.*',re.IGNORECASE):\n",
    "    print(sys.executable);\n",
    "\n"
   ]
  }
 ],
 "metadata": {
  "kernelspec": {
   "display_name": "Python 3",
   "language": "python",
   "name": "python3"
  },
  "language_info": {
   "codemirror_mode": {
    "name": "ipython",
    "version": 3
   },
   "file_extension": ".py",
   "mimetype": "text/x-python",
   "name": "python",
   "nbconvert_exporter": "python",
   "pygments_lexer": "ipython3",
   "version": "3.7.4"
  }
 },
 "nbformat": 4,
 "nbformat_minor": 2
}
